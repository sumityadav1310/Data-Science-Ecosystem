{
 "cells": [
  {
   "cell_type": "markdown",
   "id": "7a6a8bb2",
   "metadata": {},
   "source": [
    "# Data Science Tools and Ecosystem"
   ]
  },
  {
   "cell_type": "markdown",
   "id": "8afc0107",
   "metadata": {},
   "source": [
    "## In this notebook, Data Science Tools and Ecosystem are summarized."
   ]
  },
  {
   "cell_type": "markdown",
   "id": "02bd22f3",
   "metadata": {},
   "source": [
    "### Some of the popular languages that Data Scientists use are:\n",
    "1. Python\n",
    "2. R\n",
    "3. SQL"
   ]
  },
  {
   "cell_type": "markdown",
   "id": "32e63129",
   "metadata": {},
   "source": [
    "### Some of the commonly used libraries used by Data Scientists include:\n",
    "1. Pandas\n",
    "2. NumPy\n",
    "3. Matplotlib\n",
    "4. Seaborn\n",
    "5. Tensorflow"
   ]
  },
  {
   "cell_type": "markdown",
   "id": "43ece396",
   "metadata": {},
   "source": [
    "### Data Science Tools\n",
    "| Tool             | Description                              |\n",
    "|------------------|------------------------------------------|\n",
    "| Jupyter Notebook | Interactive development environment      |\n",
    "| VS Code          | Code editor with data science extensions |\n",
    "| Git              | Version control for projects             |\n",
    "| Tableau          | Data visualization tool                  | "
   ]
  },
  {
   "cell_type": "markdown",
   "id": "3ccb09bb",
   "metadata": {},
   "source": [
    "### Below are a few examples of evaluating arithmetic expressions in Python\n",
    "a = 20\n",
    "b = 10\n",
    "\n",
    "add = a + b\n",
    "subtraction = a - b\n",
    "multiplication = a * b\n",
    "division= a / b\n",
    "\n",
    "add = 30\n",
    "subtraction = 10\n",
    "multiplication = 200\n",
    "division= 2\n"
   ]
  },
  {
   "cell_type": "code",
   "execution_count": 3,
   "id": "8d179f35",
   "metadata": {},
   "outputs": [
    {
     "name": "stdout",
     "output_type": "stream",
     "text": [
      "17\n"
     ]
    }
   ],
   "source": [
    "# This a simple arithmetic expression to mutiply then add integers\n",
    "exp = (3*4)+5\n",
    "print(exp)\n"
   ]
  },
  {
   "cell_type": "code",
   "execution_count": 4,
   "id": "ab13c4a3",
   "metadata": {},
   "outputs": [
    {
     "name": "stdout",
     "output_type": "stream",
     "text": [
      "33.333333333333336\n"
     ]
    }
   ],
   "source": [
    "# This will convert 200 minutes to hours by diving by 60\n",
    "print(200 / 6)"
   ]
  },
  {
   "cell_type": "markdown",
   "id": "b427035c",
   "metadata": {},
   "source": [
    "### Objectives: List popular languages for Data Science.\n",
    "\n",
    "* Python\n",
    "* SQL\n",
    "* R"
   ]
  },
  {
   "cell_type": "markdown",
   "id": "b7f3e1d8",
   "metadata": {},
   "source": [
    "## Author\n",
    "\n",
    "Syed Ali Haider"
   ]
  },
  {
   "cell_type": "code",
   "execution_count": null,
   "id": "a98d3d75",
   "metadata": {},
   "outputs": [],
   "source": []
  }
 ],
 "metadata": {
  "kernelspec": {
   "display_name": "Python 3 (ipykernel)",
   "language": "python",
   "name": "python3"
  },
  "language_info": {
   "codemirror_mode": {
    "name": "ipython",
    "version": 3
   },
   "file_extension": ".py",
   "mimetype": "text/x-python",
   "name": "python",
   "nbconvert_exporter": "python",
   "pygments_lexer": "ipython3",
   "version": "3.9.13"
  }
 },
 "nbformat": 4,
 "nbformat_minor": 5
}
